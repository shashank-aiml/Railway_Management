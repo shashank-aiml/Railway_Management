{
 "cells": [
  {
   "cell_type": "code",
   "execution_count": 5,
   "metadata": {},
   "outputs": [
    {
     "name": "stdout",
     "output_type": "stream",
     "text": [
      " * Serving Flask app '__main__'\n",
      " * Debug mode: on\n"
     ]
    },
    {
     "name": "stderr",
     "output_type": "stream",
     "text": [
      "WARNING: This is a development server. Do not use it in a production deployment. Use a production WSGI server instead.\n",
      " * Running on http://127.0.0.1:5000\n",
      "Press CTRL+C to quit\n",
      "127.0.0.1 - - [03/Sep/2024 19:23:07] \"POST /register HTTP/1.1\" 200 -\n",
      "127.0.0.1 - - [03/Sep/2024 19:28:12] \"POST /register HTTP/1.1\" 200 -\n",
      "127.0.0.1 - - [03/Sep/2024 19:34:43] \"GET /register HTTP/1.1\" 405 -\n"
     ]
    }
   ],
   "source": [
    "from flask import Flask, request, jsonify\n",
    "from werkzeug.security import generate_password_hash\n",
    "\n",
    "# Step 1: Create an instance of the Flask class\n",
    "app = Flask(__name__)\n",
    "\n",
    "# Step 2: Define your routes\n",
    "@app.route('/register', methods=['POST'])\n",
    "def register():\n",
    "    data = request.get_json()\n",
    "    password_hash = generate_password_hash(data['password'])\n",
    "    \n",
    "    # Example: Save the user to the database\n",
    "    # For now, we'll just return the hashed password as a demonstration\n",
    "    return jsonify({\"hashed_password\": password_hash})\n",
    "\n",
    "# Step 3: Run the app\n",
    "if __name__ == '__main__':\n",
    "    app.run(debug=True, use_reloader=False)\n"
   ]
  },
  {
   "cell_type": "code",
   "execution_count": 23,
   "metadata": {},
   "outputs": [
    {
     "name": "stdout",
     "output_type": "stream",
     "text": [
      " * Serving Flask app '__main__'\n",
      " * Debug mode: on\n"
     ]
    },
    {
     "name": "stderr",
     "output_type": "stream",
     "text": [
      "WARNING: This is a development server. Do not use it in a production deployment. Use a production WSGI server instead.\n",
      " * Running on http://127.0.0.1:5001\n",
      "Press CTRL+C to quit\n",
      "127.0.0.1 - - [03/Sep/2024 19:58:37] \"GET / HTTP/1.1\" 404 -\n",
      "127.0.0.1 - - [03/Sep/2024 19:58:37] \"GET /favicon.ico HTTP/1.1\" 404 -\n"
     ]
    }
   ],
   "source": [
    "from flask import Flask, request, jsonify\n",
    "import mysql.connector\n",
    "from mysql.connector import Error\n",
    "\n",
    "app = Flask(__name__)\n",
    "\n",
    "# Configure MySQL connection\n",
    "def get_db_connection():\n",
    "    return mysql.connector.connect(\n",
    "        host='DESKTOP-K62B7PD',\n",
    "        user='shashank-02',\n",
    "        password='Shashank@02',\n",
    "        database='railway_db'\n",
    "    )\n",
    "\n",
    "# Define POST route\n",
    "@app.route('/api/endpoint', methods=['POST'])\n",
    "def insert_data():\n",
    "    if request.is_json:\n",
    "        data = request.get_json()\n",
    "        field1 = data.get('field1')\n",
    "        field2 = data.get('field2')\n",
    "\n",
    "        try:\n",
    "            connection = get_db_connection()\n",
    "            cursor = connection.cursor()\n",
    "            query = 'INSERT INTO your_table (field1, field2) VALUES (%s, %s)'\n",
    "            cursor.execute(query, (field1, field2))\n",
    "            connection.commit()\n",
    "            cursor.close()\n",
    "            connection.close()\n",
    "            return jsonify({'message': 'Data inserted successfully'}), 200\n",
    "        except Error as e:\n",
    "            return jsonify({'error': str(e)}), 500\n",
    "    else:\n",
    "        return jsonify({'error': 'Request must be JSON'}), 400\n",
    "\n",
    "if __name__ == '__main__':\n",
    "    app.run(port=5001, debug=True, use_reloader=False)\n",
    "\n"
   ]
  },
  {
   "cell_type": "code",
   "execution_count": null,
   "metadata": {},
   "outputs": [],
   "source": [
    "@app.route('/register', methods=['POST'])\n",
    "def register_user():\n",
    "    data = request.get_json()\n",
    "    password_hash = generate_password_hash(data['password'])\n",
    "\n",
    "    query = \"INSERT INTO users (username, password_hash) VALUES (%s, %s)\"\n",
    "    values = (data['username'], password_hash)\n",
    "    \n",
    "    cursor.execute(query, values)\n",
    "    db.commit()\n",
    "\n",
    "    return jsonify({\"message\": \"User registered successfully!\"}), 201\n"
   ]
  },
  {
   "cell_type": "code",
   "execution_count": 9,
   "metadata": {},
   "outputs": [],
   "source": [
    "@app.route('/login', methods=['POST'])\n",
    "def login():\n",
    "    data = request.get_json()\n",
    "    \n",
    "    query = \"SELECT * FROM users WHERE username = %s\"\n",
    "    cursor.execute(query, (data['username'],))\n",
    "    user = cursor.fetchone()\n",
    "\n",
    "    if user and check_password_hash(user['password_hash'], data['password']):\n",
    "        access_token = create_access_token(identity=user['id'])\n",
    "        return jsonify(access_token=access_token), 200\n",
    "\n",
    "    return jsonify({\"message\": \"Invalid credentials!\"}), 401\n"
   ]
  },
  {
   "cell_type": "code",
   "execution_count": 14,
   "metadata": {},
   "outputs": [],
   "source": [
    "@app.route('/admin/add-train', methods=['POST'])\n",
    "def addtrain():\n",
    "    api_key = request.headers.get('X-API-KEY')\n",
    "    if api_key != 'your_admin_api_key':\n",
    "        return jsonify({\"message\": \"Unauthorized access!\"}), 403\n",
    "\n",
    "    data = request.get_json()\n",
    "    \n",
    "    query = \"INSERT INTO trains (name, source, destination, total_seats, available_seats) VALUES (%s, %s, %s, %s, %s)\"\n",
    "    values = (data['name'], data['source'], data['destination'], data['total_seats'], data['total_seats'])\n",
    "    \n",
    "    cursor.execute(query, values)\n",
    "    db.commit()\n",
    "\n",
    "    return jsonify({\"message\": \"Train added successfully!\"}), 201\n"
   ]
  },
  {
   "cell_type": "code",
   "execution_count": 16,
   "metadata": {},
   "outputs": [],
   "source": [
    "@app.route('/trains/availability', methods=['GET'])\n",
    "def getavailability():\n",
    "    source = request.args.get('source')\n",
    "    destination = request.args.get('destination')\n",
    "\n",
    "    query = \"SELECT id, name, available_seats FROM trains WHERE source = %s AND destination = %s\"\n",
    "    cursor.execute(query, (source, destination))\n",
    "    trains = cursor.fetchall()\n",
    "\n",
    "    results = [\n",
    "        {\n",
    "            \"train_id\": train['id'],\n",
    "            \"train_name\": train['name'],\n",
    "            \"available_seats\": train['available_seats']\n",
    "        } for train in trains\n",
    "    ]\n",
    "    return jsonify(results), 200\n"
   ]
  },
  {
   "cell_type": "code",
   "execution_count": 18,
   "metadata": {},
   "outputs": [],
   "source": [
    "@app.route('/book-seat', methods=['POST'])\n",
    "def book_seat():\n",
    "    user_id = get_jwt_identity()\n",
    "    data = request.get_json()\n",
    "    train_id = data['train_id']\n",
    "\n",
    "    try:\n",
    "        query = \"START TRANSACTION\"\n",
    "        cursor.execute(query)\n",
    "\n",
    "        query = \"SELECT available_seats FROM trains WHERE id = %s FOR UPDATE\"\n",
    "        cursor.execute(query, (train_id,))\n",
    "        train = cursor.fetchone()\n",
    "\n",
    "        if train and train['available_seats'] > 0:\n",
    "            new_seat = train['available_seats']\n",
    "            \n",
    "            query = \"UPDATE trains SET available_seats = available_seats - 1 WHERE id = %s\"\n",
    "            cursor.execute(query, (train_id,))\n",
    "            \n",
    "            query = \"INSERT INTO bookings (user_id, train_id, seat_number) VALUES (%s, %s, %s)\"\n",
    "            cursor.execute(query, (user_id, train_id, new_seat))\n",
    "            \n",
    "            db.commit()\n",
    "            return jsonify({\"message\": \"Seat booked successfully!\"}), 200\n",
    "        else:\n",
    "            db.rollback()\n",
    "            return jsonify({\"message\": \"No seats available!\"}), 400\n",
    "\n",
    "    except Exception as e:\n",
    "        db.rollback()\n",
    "        return jsonify({\"message\": \"An error occurred while booking the seat.\"}), 500\n"
   ]
  },
  {
   "cell_type": "code",
   "execution_count": 19,
   "metadata": {},
   "outputs": [],
   "source": [
    "@app.route('/booking/<int:booking_id>', methods=['GET'])\n",
    "def get_booking(booking_id):\n",
    "    user_id = get_jwt_identity()\n",
    "    \n",
    "    query = \"SELECT * FROM bookings WHERE id = %s AND user_id = %s\"\n",
    "    cursor.execute(query, (booking_id, user_id))\n",
    "    booking = cursor.fetchone()\n",
    "\n",
    "    if booking:\n",
    "        return jsonify({\n",
    "            \"booking_id\": booking['id'],\n",
    "            \"train_id\": booking['train_id'],\n",
    "            \"seat_number\": booking['seat_number'],\n",
    "            \"booking_time\": booking['booking_time']\n",
    "        }), 200\n",
    "    return jsonify({\"message\": \"Booking not found!\"}), 404\n"
   ]
  }
 ],
 "metadata": {
  "kernelspec": {
   "display_name": "Python 3",
   "language": "python",
   "name": "python3"
  },
  "language_info": {
   "codemirror_mode": {
    "name": "ipython",
    "version": 3
   },
   "file_extension": ".py",
   "mimetype": "text/x-python",
   "name": "python",
   "nbconvert_exporter": "python",
   "pygments_lexer": "ipython3",
   "version": "3.12.3"
  }
 },
 "nbformat": 4,
 "nbformat_minor": 2
}
